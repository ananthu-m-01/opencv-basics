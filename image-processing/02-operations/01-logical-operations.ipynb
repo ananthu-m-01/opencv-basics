{
 "cells": [
  {
   "cell_type": "code",
   "execution_count": null,
   "metadata": {},
   "outputs": [],
   "source": [
    "import matplotlib.pyplot as plt\n",
    "from PIL import Image\n",
    "import os"
   ]
  },
  {
   "cell_type": "code",
   "execution_count": 51,
   "metadata": {},
   "outputs": [],
   "source": [
    "image_path1 = os.path.join(\"..\",\"../images\",\"messi.webp\")\n",
    "image1 = Image.open(image_path1).convert(\"RGB\")\n",
    "image_path2 = os.path.join(\"..\",\"../images\",\"ronaldo.jpeg\")\n",
    "image2 = Image.open(image_path2).convert(\"RGB\")"
   ]
  },
  {
   "cell_type": "code",
   "execution_count": 52,
   "metadata": {},
   "outputs": [],
   "source": [
    "width1, height1 = image1.size\n",
    "width2, height2 = image2.size"
   ]
  },
  {
   "cell_type": "code",
   "execution_count": 53,
   "metadata": {},
   "outputs": [],
   "source": [
    "new_width = min(width1, width2) \n",
    "new_height = min(height1, height2) "
   ]
  },
  {
   "cell_type": "code",
   "execution_count": 54,
   "metadata": {},
   "outputs": [],
   "source": [
    "image1 = image1.resize((new_width, new_height)) \n",
    "image2 = image2.resize((new_width, new_height))"
   ]
  },
  {
   "cell_type": "code",
   "execution_count": 55,
   "metadata": {},
   "outputs": [],
   "source": [
    "pixels1 = image1.load()\n",
    "pixels2 = image2.load()"
   ]
  },
  {
   "cell_type": "code",
   "execution_count": 56,
   "metadata": {},
   "outputs": [],
   "source": [
    "for y in range(new_height):\n",
    "    for x in range(new_width):\n",
    "        r1, g1, b1 = pixels1[x, y]\n",
    "        r2, g2, b2 = pixels2[x, y]\n",
    "\n",
    "        r = r1 | r2\n",
    "        g = g1 | g2\n",
    "        b = b1 | b2\n",
    "\n",
    "        pixels1[x, y] = (r, g, b)"
   ]
  },
  {
   "cell_type": "code",
   "execution_count": 57,
   "metadata": {},
   "outputs": [],
   "source": [
    "image1.show()"
   ]
  },
  {
   "cell_type": "code",
   "execution_count": 61,
   "metadata": {},
   "outputs": [],
   "source": [
    "for y in range(new_height):\n",
    "    for x in range(new_width):\n",
    "        r1, g1, b1 = pixels1[x, y]\n",
    "        r2, g2, b2 = pixels2[x, y]\n",
    "\n",
    "        r = r1 & r2\n",
    "        g = g1 & g2\n",
    "        b = b1 & b2\n",
    "\n",
    "        pixels1[x, y] = (r, g, b)"
   ]
  },
  {
   "cell_type": "code",
   "execution_count": 62,
   "metadata": {},
   "outputs": [],
   "source": [
    "image2.show()"
   ]
  },
  {
   "cell_type": "code",
   "execution_count": null,
   "metadata": {},
   "outputs": [],
   "source": []
  }
 ],
 "metadata": {
  "kernelspec": {
   "display_name": "Python 3",
   "language": "python",
   "name": "python3"
  },
  "language_info": {
   "codemirror_mode": {
    "name": "ipython",
    "version": 3
   },
   "file_extension": ".py",
   "mimetype": "text/x-python",
   "name": "python",
   "nbconvert_exporter": "python",
   "pygments_lexer": "ipython3",
   "version": "3.12.6"
  }
 },
 "nbformat": 4,
 "nbformat_minor": 2
}
